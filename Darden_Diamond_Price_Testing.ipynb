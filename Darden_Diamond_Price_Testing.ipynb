{
 "cells": [
  {
   "cell_type": "code",
   "execution_count": 1,
   "id": "4b463945-4d27-4722-8f1f-22cbd1ae5f29",
   "metadata": {},
   "outputs": [],
   "source": [
    "# this notebook will estalish that a log-log-linear regression model is best suited for prediction of diamond prices from the Darden Diamond Price case\n",
    "# the notebook 'Darden_Diamond_Price_Model_Optimization' will build on the log-log linear regression model"
   ]
  },
  {
   "cell_type": "code",
   "execution_count": 2,
   "id": "8ec54d12-c377-4164-9e41-b43bebbbb757",
   "metadata": {},
   "outputs": [],
   "source": [
    "# import libraries for data analysis\n",
    "import numpy as np\n",
    "import pandas as pd\n",
    "import matplotlib.pyplot as plt"
   ]
  },
  {
   "cell_type": "code",
   "execution_count": 3,
   "id": "80b6b33b-45dc-422d-9f35-faa812e1c2cf",
   "metadata": {},
   "outputs": [],
   "source": [
    "# import data sets\n",
    "# training data\n",
    "diamond_data_train = pd.read_csv('diamond_train.csv')\n",
    "\n",
    "# holdout test data\n",
    "diamond_data_holdout = pd.read_csv('diamond_test.csv')"
   ]
  },
  {
   "cell_type": "code",
   "execution_count": 4,
   "id": "9ac98328-5c14-4758-a79c-701828e73afc",
   "metadata": {},
   "outputs": [
    {
     "data": {
      "text/plain": [
       "Index(['ID', 'Carat Weight', 'Cut', 'Color', 'Clarity', 'Polish', 'Symmetry',\n",
       "       'Report', 'Price'],\n",
       "      dtype='object')"
      ]
     },
     "execution_count": 4,
     "metadata": {},
     "output_type": "execute_result"
    }
   ],
   "source": [
    "diamond_data_train.columns"
   ]
  },
  {
   "cell_type": "code",
   "execution_count": 5,
   "id": "66b4171a-a421-42f5-aefe-f72b9b0c8336",
   "metadata": {},
   "outputs": [
    {
     "name": "stdout",
     "output_type": "stream",
     "text": [
      "Ideal              2482\n",
      "Very Good          2428\n",
      "Good                708\n",
      "Signature-Ideal     253\n",
      "Fair                129\n",
      "Name: Cut, dtype: int64\n",
      "G    1501\n",
      "H    1079\n",
      "F    1013\n",
      "I     968\n",
      "E     778\n",
      "D     661\n",
      "Name: Color, dtype: int64\n",
      "SI1     2059\n",
      "VS2     1575\n",
      "VS1     1192\n",
      "VVS2     666\n",
      "VVS1     285\n",
      "IF       219\n",
      "FL         4\n",
      "Name: Clarity, dtype: int64\n",
      "EX    2425\n",
      "VG    2409\n",
      "ID     595\n",
      "G      571\n",
      "Name: Polish, dtype: int64\n",
      "VG    2417\n",
      "EX    2059\n",
      "G      916\n",
      "ID     608\n",
      "Name: Symmetry, dtype: int64\n",
      "GIA     5266\n",
      "AGSL     734\n",
      "Name: Report, dtype: int64\n"
     ]
    }
   ],
   "source": [
    "# analyze training data\n",
    "\n",
    "# look for the unique values under the qualitative values under each columns\n",
    "# will be useful for when using dummy variables for qualitative values\n",
    "for col in diamond_data_train.iloc[:,2:8]:\n",
    "    print(diamond_data_train[col].value_counts())"
   ]
  },
  {
   "cell_type": "code",
   "execution_count": 6,
   "id": "4877ced8-4438-4cc2-8012-8a913b430573",
   "metadata": {},
   "outputs": [
    {
     "name": "stdout",
     "output_type": "stream",
     "text": [
      "Ideal              1301\n",
      "Very Good          1276\n",
      "Good                373\n",
      "Signature-Ideal     122\n",
      "Fair                 70\n",
      "Name: Cut, dtype: int64\n",
      "G    752\n",
      "H    631\n",
      "F    522\n",
      "I    480\n",
      "E    411\n",
      "D    346\n",
      "Name: Color, dtype: int64\n",
      "SI1     1051\n",
      "VS2      821\n",
      "VS1      634\n",
      "VVS2     378\n",
      "VVS1     166\n",
      "IF        92\n",
      "Name: Clarity, dtype: int64\n",
      "EX    1279\n",
      "VG    1235\n",
      "G      323\n",
      "ID     305\n",
      "Name: Polish, dtype: int64\n",
      "VG    1250\n",
      "EX    1087\n",
      "G      488\n",
      "ID     317\n",
      "Name: Symmetry, dtype: int64\n",
      "GIA     2757\n",
      "AGSL     385\n",
      "Name: Report, dtype: int64\n"
     ]
    }
   ],
   "source": [
    "# analyze training data\n",
    "# look for the unique values under the qualitative values under each columns\n",
    "for col in diamond_data_holdout.iloc[:,2:]:\n",
    "    print(diamond_data_holdout[col].value_counts())"
   ]
  },
  {
   "cell_type": "code",
   "execution_count": 7,
   "id": "93ac80e7-684a-4c00-90c5-5a63272fdcab",
   "metadata": {},
   "outputs": [
    {
     "data": {
      "text/plain": [
       "(5996, 9)"
      ]
     },
     "execution_count": 7,
     "metadata": {},
     "output_type": "execute_result"
    }
   ],
   "source": [
    "# training data, under 'Clarity' columns, has value FL, while holdout testing data does not\n",
    "# remove the 4 sample rows of data that have value FL under 'Clarity' column\n",
    "# new dimensions should have only 5996 rows\n",
    "mask = diamond_data_train['Clarity'] == 'FL'\n",
    "diamond_data_train_mask = diamond_data_train.loc[~mask]\n",
    "\n",
    "# confirm new dimensions, with the 4 rows removed\n",
    "diamond_data_train_mask.shape"
   ]
  },
  {
   "cell_type": "code",
   "execution_count": 8,
   "id": "e124723b-b85b-4942-971f-9355c57cd98a",
   "metadata": {},
   "outputs": [
    {
     "data": {
      "text/plain": [
       "(3142, 8)"
      ]
     },
     "execution_count": 8,
     "metadata": {},
     "output_type": "execute_result"
    }
   ],
   "source": [
    "# confirm dimensions of holdout data\n",
    "diamond_data_holdout.shape"
   ]
  },
  {
   "cell_type": "code",
   "execution_count": 9,
   "id": "9431437b-5808-4eca-9093-1fb4e5fe837e",
   "metadata": {},
   "outputs": [],
   "source": [
    "# training data will have an extra column because it will have the price column\n",
    "# holdout test data will not have a price column\n",
    "# must still remembers to drop 'ID' column from training and holdout data sets"
   ]
  },
  {
   "cell_type": "code",
   "execution_count": 10,
   "id": "ed05254c-2bb4-4b25-9a06-56989712b66f",
   "metadata": {},
   "outputs": [
    {
     "data": {
      "text/html": [
       "<div>\n",
       "<style scoped>\n",
       "    .dataframe tbody tr th:only-of-type {\n",
       "        vertical-align: middle;\n",
       "    }\n",
       "\n",
       "    .dataframe tbody tr th {\n",
       "        vertical-align: top;\n",
       "    }\n",
       "\n",
       "    .dataframe thead th {\n",
       "        text-align: right;\n",
       "    }\n",
       "</style>\n",
       "<table border=\"1\" class=\"dataframe\">\n",
       "  <thead>\n",
       "    <tr style=\"text-align: right;\">\n",
       "      <th></th>\n",
       "      <th>Carat Weight</th>\n",
       "      <th>Cut</th>\n",
       "      <th>Color</th>\n",
       "      <th>Clarity</th>\n",
       "      <th>Polish</th>\n",
       "      <th>Symmetry</th>\n",
       "      <th>Report</th>\n",
       "    </tr>\n",
       "  </thead>\n",
       "  <tbody>\n",
       "    <tr>\n",
       "      <th>0</th>\n",
       "      <td>1.10</td>\n",
       "      <td>Ideal</td>\n",
       "      <td>H</td>\n",
       "      <td>SI1</td>\n",
       "      <td>VG</td>\n",
       "      <td>EX</td>\n",
       "      <td>GIA</td>\n",
       "    </tr>\n",
       "    <tr>\n",
       "      <th>1</th>\n",
       "      <td>0.83</td>\n",
       "      <td>Ideal</td>\n",
       "      <td>H</td>\n",
       "      <td>VS1</td>\n",
       "      <td>ID</td>\n",
       "      <td>ID</td>\n",
       "      <td>AGSL</td>\n",
       "    </tr>\n",
       "    <tr>\n",
       "      <th>2</th>\n",
       "      <td>0.85</td>\n",
       "      <td>Ideal</td>\n",
       "      <td>H</td>\n",
       "      <td>SI1</td>\n",
       "      <td>EX</td>\n",
       "      <td>EX</td>\n",
       "      <td>GIA</td>\n",
       "    </tr>\n",
       "    <tr>\n",
       "      <th>3</th>\n",
       "      <td>0.91</td>\n",
       "      <td>Ideal</td>\n",
       "      <td>E</td>\n",
       "      <td>SI1</td>\n",
       "      <td>VG</td>\n",
       "      <td>VG</td>\n",
       "      <td>GIA</td>\n",
       "    </tr>\n",
       "    <tr>\n",
       "      <th>4</th>\n",
       "      <td>0.83</td>\n",
       "      <td>Ideal</td>\n",
       "      <td>G</td>\n",
       "      <td>SI1</td>\n",
       "      <td>EX</td>\n",
       "      <td>EX</td>\n",
       "      <td>GIA</td>\n",
       "    </tr>\n",
       "  </tbody>\n",
       "</table>\n",
       "</div>"
      ],
      "text/plain": [
       "   Carat Weight    Cut Color Clarity Polish Symmetry Report\n",
       "0          1.10  Ideal     H     SI1     VG       EX    GIA\n",
       "1          0.83  Ideal     H     VS1     ID       ID   AGSL\n",
       "2          0.85  Ideal     H     SI1     EX       EX    GIA\n",
       "3          0.91  Ideal     E     SI1     VG       VG    GIA\n",
       "4          0.83  Ideal     G     SI1     EX       EX    GIA"
      ]
     },
     "execution_count": 10,
     "metadata": {},
     "output_type": "execute_result"
    }
   ],
   "source": [
    "# create the 'X' and 'y' variables for model training\n",
    "# 'X' will drop 'ID' and 'Price columns'\n",
    "X = diamond_data_train_mask.drop(['ID', 'Price'], axis=1)\n",
    "\n",
    "# check data set\n",
    "X.head()"
   ]
  },
  {
   "cell_type": "code",
   "execution_count": 11,
   "id": "2af147e3-a50f-4dfc-a017-71c5b8e12962",
   "metadata": {},
   "outputs": [
    {
     "data": {
      "text/plain": [
       "(5996, 7)"
      ]
     },
     "execution_count": 11,
     "metadata": {},
     "output_type": "execute_result"
    }
   ],
   "source": [
    "# 'X' dimensions check\n",
    "X.shape"
   ]
  },
  {
   "cell_type": "code",
   "execution_count": 12,
   "id": "d2ecdd8a-6fb9-48b2-ab54-3663de0baeef",
   "metadata": {},
   "outputs": [
    {
     "data": {
      "text/plain": [
       "0    5169\n",
       "1    3470\n",
       "2    3183\n",
       "3    4370\n",
       "4    3171\n",
       "Name: Price, dtype: int64"
      ]
     },
     "execution_count": 12,
     "metadata": {},
     "output_type": "execute_result"
    }
   ],
   "source": [
    "# 'y' will be just the price\n",
    "y = diamond_data_train_mask['Price']\n",
    "\n",
    "# check data set\n",
    "y.head()"
   ]
  },
  {
   "cell_type": "code",
   "execution_count": 13,
   "id": "a3357bf6-14ec-4b9e-bfba-f8f7283c697e",
   "metadata": {},
   "outputs": [
    {
     "data": {
      "text/plain": [
       "(5996,)"
      ]
     },
     "execution_count": 13,
     "metadata": {},
     "output_type": "execute_result"
    }
   ],
   "source": [
    "# 'y' dimensions check, ensure same amount of rows as 'X', 5996\n",
    "y.shape"
   ]
  },
  {
   "cell_type": "code",
   "execution_count": 14,
   "id": "d3e4378d-bccd-4e17-b6fc-cc6404c6e5b4",
   "metadata": {},
   "outputs": [
    {
     "data": {
      "text/html": [
       "<div>\n",
       "<style scoped>\n",
       "    .dataframe tbody tr th:only-of-type {\n",
       "        vertical-align: middle;\n",
       "    }\n",
       "\n",
       "    .dataframe tbody tr th {\n",
       "        vertical-align: top;\n",
       "    }\n",
       "\n",
       "    .dataframe thead th {\n",
       "        text-align: right;\n",
       "    }\n",
       "</style>\n",
       "<table border=\"1\" class=\"dataframe\">\n",
       "  <thead>\n",
       "    <tr style=\"text-align: right;\">\n",
       "      <th></th>\n",
       "      <th>Carat Weight</th>\n",
       "      <th>Cut_Fair</th>\n",
       "      <th>Cut_Good</th>\n",
       "      <th>Cut_Ideal</th>\n",
       "      <th>Cut_Signature-Ideal</th>\n",
       "      <th>Cut_Very Good</th>\n",
       "      <th>Color_D</th>\n",
       "      <th>Color_E</th>\n",
       "      <th>Color_F</th>\n",
       "      <th>Color_G</th>\n",
       "      <th>...</th>\n",
       "      <th>Polish_EX</th>\n",
       "      <th>Polish_G</th>\n",
       "      <th>Polish_ID</th>\n",
       "      <th>Polish_VG</th>\n",
       "      <th>Symmetry_EX</th>\n",
       "      <th>Symmetry_G</th>\n",
       "      <th>Symmetry_ID</th>\n",
       "      <th>Symmetry_VG</th>\n",
       "      <th>Report_AGSL</th>\n",
       "      <th>Report_GIA</th>\n",
       "    </tr>\n",
       "  </thead>\n",
       "  <tbody>\n",
       "    <tr>\n",
       "      <th>0</th>\n",
       "      <td>1.10</td>\n",
       "      <td>0</td>\n",
       "      <td>0</td>\n",
       "      <td>1</td>\n",
       "      <td>0</td>\n",
       "      <td>0</td>\n",
       "      <td>0</td>\n",
       "      <td>0</td>\n",
       "      <td>0</td>\n",
       "      <td>0</td>\n",
       "      <td>...</td>\n",
       "      <td>0</td>\n",
       "      <td>0</td>\n",
       "      <td>0</td>\n",
       "      <td>1</td>\n",
       "      <td>1</td>\n",
       "      <td>0</td>\n",
       "      <td>0</td>\n",
       "      <td>0</td>\n",
       "      <td>0</td>\n",
       "      <td>1</td>\n",
       "    </tr>\n",
       "    <tr>\n",
       "      <th>1</th>\n",
       "      <td>0.83</td>\n",
       "      <td>0</td>\n",
       "      <td>0</td>\n",
       "      <td>1</td>\n",
       "      <td>0</td>\n",
       "      <td>0</td>\n",
       "      <td>0</td>\n",
       "      <td>0</td>\n",
       "      <td>0</td>\n",
       "      <td>0</td>\n",
       "      <td>...</td>\n",
       "      <td>0</td>\n",
       "      <td>0</td>\n",
       "      <td>1</td>\n",
       "      <td>0</td>\n",
       "      <td>0</td>\n",
       "      <td>0</td>\n",
       "      <td>1</td>\n",
       "      <td>0</td>\n",
       "      <td>1</td>\n",
       "      <td>0</td>\n",
       "    </tr>\n",
       "    <tr>\n",
       "      <th>2</th>\n",
       "      <td>0.85</td>\n",
       "      <td>0</td>\n",
       "      <td>0</td>\n",
       "      <td>1</td>\n",
       "      <td>0</td>\n",
       "      <td>0</td>\n",
       "      <td>0</td>\n",
       "      <td>0</td>\n",
       "      <td>0</td>\n",
       "      <td>0</td>\n",
       "      <td>...</td>\n",
       "      <td>1</td>\n",
       "      <td>0</td>\n",
       "      <td>0</td>\n",
       "      <td>0</td>\n",
       "      <td>1</td>\n",
       "      <td>0</td>\n",
       "      <td>0</td>\n",
       "      <td>0</td>\n",
       "      <td>0</td>\n",
       "      <td>1</td>\n",
       "    </tr>\n",
       "    <tr>\n",
       "      <th>3</th>\n",
       "      <td>0.91</td>\n",
       "      <td>0</td>\n",
       "      <td>0</td>\n",
       "      <td>1</td>\n",
       "      <td>0</td>\n",
       "      <td>0</td>\n",
       "      <td>0</td>\n",
       "      <td>1</td>\n",
       "      <td>0</td>\n",
       "      <td>0</td>\n",
       "      <td>...</td>\n",
       "      <td>0</td>\n",
       "      <td>0</td>\n",
       "      <td>0</td>\n",
       "      <td>1</td>\n",
       "      <td>0</td>\n",
       "      <td>0</td>\n",
       "      <td>0</td>\n",
       "      <td>1</td>\n",
       "      <td>0</td>\n",
       "      <td>1</td>\n",
       "    </tr>\n",
       "    <tr>\n",
       "      <th>4</th>\n",
       "      <td>0.83</td>\n",
       "      <td>0</td>\n",
       "      <td>0</td>\n",
       "      <td>1</td>\n",
       "      <td>0</td>\n",
       "      <td>0</td>\n",
       "      <td>0</td>\n",
       "      <td>0</td>\n",
       "      <td>0</td>\n",
       "      <td>1</td>\n",
       "      <td>...</td>\n",
       "      <td>1</td>\n",
       "      <td>0</td>\n",
       "      <td>0</td>\n",
       "      <td>0</td>\n",
       "      <td>1</td>\n",
       "      <td>0</td>\n",
       "      <td>0</td>\n",
       "      <td>0</td>\n",
       "      <td>0</td>\n",
       "      <td>1</td>\n",
       "    </tr>\n",
       "  </tbody>\n",
       "</table>\n",
       "<p>5 rows × 28 columns</p>\n",
       "</div>"
      ],
      "text/plain": [
       "   Carat Weight  Cut_Fair  Cut_Good  Cut_Ideal  Cut_Signature-Ideal  \\\n",
       "0          1.10         0         0          1                    0   \n",
       "1          0.83         0         0          1                    0   \n",
       "2          0.85         0         0          1                    0   \n",
       "3          0.91         0         0          1                    0   \n",
       "4          0.83         0         0          1                    0   \n",
       "\n",
       "   Cut_Very Good  Color_D  Color_E  Color_F  Color_G  ...  Polish_EX  \\\n",
       "0              0        0        0        0        0  ...          0   \n",
       "1              0        0        0        0        0  ...          0   \n",
       "2              0        0        0        0        0  ...          1   \n",
       "3              0        0        1        0        0  ...          0   \n",
       "4              0        0        0        0        1  ...          1   \n",
       "\n",
       "   Polish_G  Polish_ID  Polish_VG  Symmetry_EX  Symmetry_G  Symmetry_ID  \\\n",
       "0         0          0          1            1           0            0   \n",
       "1         0          1          0            0           0            1   \n",
       "2         0          0          0            1           0            0   \n",
       "3         0          0          1            0           0            0   \n",
       "4         0          0          0            1           0            0   \n",
       "\n",
       "   Symmetry_VG  Report_AGSL  Report_GIA  \n",
       "0            0            0           1  \n",
       "1            0            1           0  \n",
       "2            0            0           1  \n",
       "3            1            0           1  \n",
       "4            0            0           1  \n",
       "\n",
       "[5 rows x 28 columns]"
      ]
     },
     "execution_count": 14,
     "metadata": {},
     "output_type": "execute_result"
    }
   ],
   "source": [
    "# get dummy variables for X to account for qualitative data\n",
    "X_dummy = pd.get_dummies(X)\n",
    "\n",
    "# inspect new dataframe\n",
    "X_dummy.head()"
   ]
  },
  {
   "cell_type": "code",
   "execution_count": 15,
   "id": "39316568-ea97-4e18-93d0-026cb755dc48",
   "metadata": {},
   "outputs": [],
   "source": [
    "# import libraries for training sample split up and linear regressiokn\n",
    "from sklearn.model_selection import train_test_split\n",
    "from sklearn.linear_model import LinearRegression\n",
    "from sklearn.metrics import mean_squared_error"
   ]
  },
  {
   "cell_type": "code",
   "execution_count": 16,
   "id": "0157f343-34ae-4396-a038-2a9ae2f8ad5b",
   "metadata": {},
   "outputs": [
    {
     "name": "stdout",
     "output_type": "stream",
     "text": [
      "R^2: 0.8720977639626821\n",
      "RMSE: 3494.6186197540483\n"
     ]
    }
   ],
   "source": [
    "# split up training data for training validation purposes\n",
    "# validation size will be 25% of training data\n",
    "X_train, X_test, y_train, y_test = train_test_split(X_dummy, y,\n",
    "                                                   test_size=0.25, random_state=1\n",
    "                                                   )\n",
    "\n",
    "# testing first: Linear Model\n",
    "# create linear regression object\n",
    "reg_lin = LinearRegression()\n",
    "\n",
    "# fit the data\n",
    "reg_lin.fit(X_train, y_train)\n",
    "\n",
    "# predict the data using X_test\n",
    "y_lin_pred = reg_lin.predict(X_test)\n",
    "\n",
    "# check accuracy of predictions between X_test and y_test\n",
    "print('R^2: ' + str(reg_lin.score(X_test, y_test)))\n",
    "print('RMSE: ' + str(mean_squared_error(y_test, y_lin_pred, squared=False)))"
   ]
  },
  {
   "cell_type": "code",
   "execution_count": 17,
   "id": "ae032b38-d45c-4432-887a-fdee185a80da",
   "metadata": {},
   "outputs": [
    {
     "name": "stdout",
     "output_type": "stream",
     "text": [
      "R^2: 0.959647467807276\n",
      "RMSE: 0.14159489323580388\n"
     ]
    }
   ],
   "source": [
    "# log-linear model now\n",
    "# convert 'y' data to log values\n",
    "y_train_log = np.log(y_train)\n",
    "y_test_log = np.log(y_test)\n",
    "\n",
    "# create new regression object for log-linear\n",
    "reg_log_lin = LinearRegression()\n",
    "\n",
    "# fit data; still use X_train, but now use y_train_log\n",
    "reg_log_lin.fit(X_train, y_train_log)\n",
    "\n",
    "# predict the data using X_test\n",
    "y_log_lin_pred = reg_log_lin.predict(X_test)\n",
    "\n",
    "# check accuracy of predictions between X_test and y_test\n",
    "print('R^2: '+str(reg_log_lin.score(X_test, y_test_log)))\n",
    "print('RMSE: ' + str(mean_squared_error(y_test_log, y_log_lin_pred, squared=False)))"
   ]
  },
  {
   "cell_type": "code",
   "execution_count": 18,
   "id": "ead63fe7-75e6-4279-bba1-3a52db1a5e59",
   "metadata": {},
   "outputs": [
    {
     "data": {
      "text/plain": [
       "1226    9.931005\n",
       "325     8.883917\n",
       "1878    8.557759\n",
       "86      8.339979\n",
       "2929    9.550876\n",
       "          ...   \n",
       "906     8.035603\n",
       "5196    8.410053\n",
       "3982    8.903408\n",
       "236     8.525360\n",
       "5161    8.746398\n",
       "Name: Price, Length: 4497, dtype: float64"
      ]
     },
     "execution_count": 18,
     "metadata": {},
     "output_type": "execute_result"
    }
   ],
   "source": [
    "y_train_log"
   ]
  },
  {
   "cell_type": "code",
   "execution_count": 19,
   "id": "c18157ae-c7e8-4e15-845b-3bdca6ecdc6f",
   "metadata": {},
   "outputs": [
    {
     "name": "stdout",
     "output_type": "stream",
     "text": [
      "R^2: 0.9803352109810775\n",
      "RMSE: 0.09884548568094273\n"
     ]
    }
   ],
   "source": [
    "# make X log data for log-log model\n",
    "# make a copy of X_train\n",
    "X_train_log = X_train.copy()\n",
    "\n",
    "# add new column that is the log of Carat Weight and inspect\n",
    "X_train_log['log_CW'] = np.log(X_train_log.loc[:, 'Carat Weight'])\n",
    "#X_train_log.head()\n",
    "\n",
    "# has 29 columns now, drop the original 'Carat Weight column'\n",
    "X_train_log = X_train_log.drop('Carat Weight', axis=1)\n",
    "\n",
    "# inspect, should be back down to 28 columns\n",
    "#X_train_log.head()\n",
    "\n",
    "# repeat above for X_test dataframe\n",
    "# make X log data for log-log model\n",
    "# make a copy of X_test\n",
    "X_test_log = X_test.copy()\n",
    "\n",
    "# add new column that is the log of Carat Weight and inspect\n",
    "X_test_log['log_CW'] = np.log(X_test_log.loc[:, 'Carat Weight'])\n",
    "\n",
    "# has 29 columns now, drop the original 'Carat Weight column'\n",
    "X_test_log = X_test_log.drop('Carat Weight', axis=1)\n",
    "\n",
    "# inspect, should be back down to 28 columns\n",
    "#X_test_log.head()\n",
    "\n",
    "# create new regression object for log-log\n",
    "reg_log_log = LinearRegression()\n",
    "\n",
    "# fit data; use X_train_log alongside y_train_log\n",
    "reg_log_log.fit(X_train_log, y_train_log)\n",
    "\n",
    "# predict the data using X_test\n",
    "y_log_log_pred = reg_log_log.predict(X_test_log)\n",
    "\n",
    "# check accuracy of predictions between X_test and y_test\n",
    "print('R^2: '+str(reg_log_log.score(X_test_log, y_test_log)))\n",
    "print('RMSE: ' + str(mean_squared_error(y_test_log, y_log_log_pred, squared=False)))"
   ]
  },
  {
   "cell_type": "code",
   "execution_count": 20,
   "id": "d7969b51-2103-49a9-b3c9-ea85e6e7fad5",
   "metadata": {},
   "outputs": [],
   "source": [
    "# log-log model has highest score\n",
    "# use for holdout data set\n",
    "# must prepare holdout data\n",
    "# drop ID column first\n",
    "\n",
    "X_holdout = diamond_data_holdout.drop('ID', axis=1)\n",
    "\n",
    "# inspect dimensions (should have 7 columns)\n",
    "#X_holdout.shape"
   ]
  },
  {
   "cell_type": "code",
   "execution_count": 21,
   "id": "579437b5-b89d-45dd-aba3-b71b7922d3cb",
   "metadata": {},
   "outputs": [],
   "source": [
    "# inspect dataframe\n",
    "#X_holdout.head()"
   ]
  },
  {
   "cell_type": "code",
   "execution_count": 22,
   "id": "5b038d2d-f1af-4d1c-9ff2-4181fa672a40",
   "metadata": {},
   "outputs": [],
   "source": [
    "# get dummy variables for X_holdout\n",
    "X_holdout_dummy = pd.get_dummies(X_holdout)\n",
    "\n",
    "# inspect, should have 28 columns\n",
    "#X_holdout_dummy.head()\n",
    "\n",
    "# must now log transform the 'Carat Weight' columns and then drop the original CW column\n",
    "# make copy to preserve original data\n",
    "X_holdout_dummy_log = X_holdout_dummy.copy()\n",
    "\n",
    "# add new column that is log of Carat Weight\n",
    "X_holdout_dummy_log['log_CW'] = np.log(X_holdout_dummy_log.loc[:, 'Carat Weight'])\n",
    "\n",
    "# inspect, should have 29 columns\n",
    "#X_holdout_dummy_log.head()\n",
    "\n",
    "# drop the original 'Carat Weight column'\n",
    "X_holdout_dummy_log = X_holdout_dummy_log.drop('Carat Weight', axis=1)\n",
    "\n",
    "# inspect; should have 28 columns again with 'log_CW' at the end\n",
    "#X_holdout_dummy_log.head()"
   ]
  },
  {
   "cell_type": "code",
   "execution_count": 23,
   "id": "dc13a879-e8f9-469d-bf76-b209bff85a76",
   "metadata": {},
   "outputs": [],
   "source": [
    "# holdout data prepared to enter model for testing\n",
    "# use model: reg_log_log\n",
    "y_holdout_log_log_pred = reg_log_log.predict(X_holdout_dummy_log)\n",
    "\n",
    "# inspect y_holdout_log_log_pred\n",
    "#y_holdout_log_log_pred\n",
    "\n",
    "# must exp transform to get the price\n",
    "output = np.exp(y_holdout_log_log_pred)\n",
    "\n",
    "# inspect\n",
    "#output\n",
    "\n",
    "# inspect dimensions \n",
    "#output.shape\n",
    "\n",
    "A3 = pd.DataFrame(output)\n",
    "A3.columns = ['Price']\n",
    "# outputs to CSV\n",
    "#A3.to_csv('A3_predictions', index=None, header=None)"
   ]
  },
  {
   "cell_type": "code",
   "execution_count": 24,
   "id": "fa312923-619e-4dba-bd91-6289f9a03517",
   "metadata": {},
   "outputs": [
    {
     "data": {
      "text/plain": [
       "array([17426.49573356, 43357.98197008,  3778.87874834, ...,\n",
       "        9850.84482969,  7599.14496717,  3010.57899176])"
      ]
     },
     "execution_count": 24,
     "metadata": {},
     "output_type": "execute_result"
    }
   ],
   "source": [
    "# inspect output\n",
    "output"
   ]
  }
 ],
 "metadata": {
  "kernelspec": {
   "display_name": "Python 3",
   "language": "python",
   "name": "python3"
  },
  "language_info": {
   "codemirror_mode": {
    "name": "ipython",
    "version": 3
   },
   "file_extension": ".py",
   "mimetype": "text/x-python",
   "name": "python",
   "nbconvert_exporter": "python",
   "pygments_lexer": "ipython3",
   "version": "3.6.13"
  }
 },
 "nbformat": 4,
 "nbformat_minor": 5
}
